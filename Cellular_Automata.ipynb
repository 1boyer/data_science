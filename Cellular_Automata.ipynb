{
 "cells": [
  {
   "cell_type": "markdown",
   "metadata": {},
   "source": [
    "# Cellular Automata and Computation\n",
    "\n",
    "In this workbook I investigate cellular automata visually and using machine learning. In our case cellular automata (CA) will be an array of 'cells' which take some value. The states of the cells will evolve in time based on their neighbors. CA evolution is often greatly simplified by restricting update rules to interactions between nearest or next-to-nearest neighbors.\n",
    "\n",
    "One obvious problem to investigate is the degree to which the function of a cellular automaton can be modelled using machine learning methods. In the first part I'll begin by generating some cellular automata for viewing."
   ]
  },
  {
   "cell_type": "code",
   "execution_count": 1,
   "metadata": {
    "collapsed": true
   },
   "outputs": [],
   "source": [
    "import numpy as np\n",
    "import matplotlib.pyplot as pp\n",
    "%matplotlib inline\n",
    "#import seaborn"
   ]
  },
  {
   "cell_type": "markdown",
   "metadata": {},
   "source": [
    "## Cellular Automata Spacetime\n",
    "A CA spacetime is a matrix with each column representing the evolution of a cell through time. The following function begins with a single array indicating the initial state of the CA universe and constructs the matrix one row at a time by evolving the matrix according to a ruleset."
   ]
  },
  {
   "cell_type": "code",
   "execution_count": 2,
   "metadata": {
    "collapsed": true
   },
   "outputs": [],
   "source": [
    "def generate_spacetime(rule, alive = 15, ca_width=30, ca_duration = 30):\n",
    "    dead = ca_width-alive\n",
    "    spacetime = []\n",
    "    space = np.int64( np.hstack((np.ones(alive), np.zeros(dead))) )\n",
    "    np.random.shuffle( space )\n",
    "    spacetime.append( space )\n",
    "\n",
    "    s0 = list(range(ca_width))\n",
    "    sl1 = s0[1:] + s0[:1]\n",
    "    sr1 = s0[-1:] + s0[:-1]\n",
    "\n",
    "\n",
    "    for time_step in xrange(ca_duration):\n",
    "        values = 4*spacetime[time_step][sr1] + 2*spacetime[time_step][s0] + 1*spacetime[time_step][sl1]\n",
    "        space = [] \n",
    "        for value in values:\n",
    "            if (rule >> value) & 0x1:\n",
    "                space.append(1)\n",
    "            else:\n",
    "                space.append(0)\n",
    "        spacetime.append( np.asarray(space) )\n",
    "\n",
    "    return np.asmatrix(spacetime)\n",
    "\n",
    "\n",
    "def generate_spacetime_NNN(rule, alive = 200, ca_width = 400, ca_duration = 400):\n",
    "    dead = ca_width-alive\n",
    "    spacetime = []\n",
    "    space = np.int64( np.hstack((np.ones(alive), np.zeros(dead))) )\n",
    "    np.random.shuffle( space )\n",
    "    spacetime.append( space )\n",
    "    s0 = list(range(ca_width))\n",
    "    sl3 = s0[3:] + s0[:3]\n",
    "    sl2 = s0[2:] + s0[:2]\n",
    "    sl1 = s0[1:] + s0[:1]\n",
    "    sr1 = s0[-1:] + s0[:-1]\n",
    "    sr2 = s0[-2:] + s0[:-2]\n",
    "    sr3 = s0[-3:] + s0[:-3]\n",
    "\n",
    "    for time_step in range(ca_duration):\n",
    "        values = 64*spacetime[time_step][sr3] + 32*spacetime[time_step][sr2] + 16*spacetime[time_step][sr1] + 8*spacetime[time_step][s0] + 4*spacetime[time_step][sl1] + 2*spacetime[time_step][sl2] + spacetime[time_step][sl3]\n",
    "        space = []\n",
    "        for value in values:\n",
    "            if ((np.uint64(rule[value//64]) << np.uint64(value % 64)) & 0x8000000000000000):\n",
    "                space.append(1)\n",
    "            else:\n",
    "                space.append(0)\n",
    "        spacetime.append( np.asarray(space) )\n",
    "\n",
    "    return np.asmatrix(spacetime)"
   ]
  },
  {
   "cell_type": "code",
   "execution_count": 8,
   "metadata": {
    "collapsed": true
   },
   "outputs": [],
   "source": [
    "from matplotlib.colors import ListedColormap\n",
    "\n",
    "def show_spacetime(spacetime):\n",
    "    # make a color map of fixed colors\n",
    "    cmap = ListedColormap(['gold','black'])\n",
    "    # tell imshow about color map so that only set colors are used\n",
    "    img = pp.imshow(spacetime,interpolation='nearest',\n",
    "                    cmap = cmap)\n",
    "    #pp.colorbar(img,cmap=cmap, ticks=[0,1])\n",
    "    pp.show()"
   ]
  },
  {
   "cell_type": "markdown",
   "metadata": {},
   "source": [
    "# Elementary CA examples\n",
    "First we look at the simple case of CA update rules that only depend on nearest neighboring cells. These 'elementary cellular automata' were classified by Stephen Wolfram who found the 2^3 inputs to each cell meant that each ruleset could be numbered with an 8 digit binary number. This gives 256 different possible rules. The nearest neighbor spacetime generator above takes a number between 0 and 255 and returns a corresponding spacetime."
   ]
  },
  {
   "cell_type": "code",
   "execution_count": 7,
   "metadata": {},
   "outputs": [
    {
     "data": {
      "image/png": "[encoded data removed]",
      "text/plain": [
       "<matplotlib.figure.Figure at 0x7fb6088095d0>"
      ]
     },
     "metadata": {},
     "output_type": "display_data"
    }
   ],
   "source": [
    "\n",
    "rules = [18, 30, 110, 182]\n",
    "titles = [str(x) for x in rules]\n",
    "\n",
    "from matplotlib.colors import ListedColormap\n",
    "fig, subfigs = pp.subplots(1,4,figsize=(16, 5))\n",
    "cmap = ListedColormap(['gold','black'])\n",
    "fig.suptitle('Four Interesting CA Rulesets', fontsize=20)\n",
    "\n",
    "for i in range(4):\n",
    "    ax = subfigs[i]\n",
    "    ax.set_title(titles[i])\n",
    "    spacetime = generate_spacetime(rules[i],alive = 3, ca_duration = 20, ca_width = 20)\n",
    "    ax.imshow(spacetime,interpolation='nearest',\n",
    "                    cmap = cmap)\n"
   ]
  },
  {
   "cell_type": "markdown",
   "metadata": {},
   "source": [
    "## Next-to-Nearest-Neighbor CA that solve a particular problem\n",
    "\n",
    "Now let's look at three spacetimes for CA rulesets which have been found to perform the computational task of identifying whether the spacetime is mostly in the gold or black state."
   ]
  },
  {
   "cell_type": "code",
   "execution_count": 8,
   "metadata": {
    "scrolled": true
   },
   "outputs": [
    {
     "data": {
      "image/png": "[encoded data removed]",
      "text/plain": [
       "<matplotlib.figure.Figure at 0x7fb608550810>"
      ]
     },
     "metadata": {},
     "output_type": "display_data"
    }
   ],
   "source": [
    "rule_17083 = [0x031001001fa00013, 0x331f9fff5975ffff]\n",
    "rule_exp = [0x0505408305c90101, 0x200b0efb94c7cff7]\n",
    "rule_majority = [0x0001011701171777, 0x01171777177f7fff]\n",
    "rules = [rule_17083, rule_exp, rule_majority]\n",
    "titles = ['17083', 'EXP', 'Majority']\n",
    "\n",
    "from matplotlib.colors import ListedColormap\n",
    "fig, subfigs = pp.subplots(1,3,figsize=(16, 5))\n",
    "cmap = ListedColormap(['gold','black'])\n",
    "fig.suptitle('Three CA Rulesets with Computation', fontsize=20)\n",
    "\n",
    "for i in range(3):\n",
    "    ax = subfigs[i]\n",
    "    ax.set_title(titles[i])\n",
    "    spacetime = generate_spacetime_NNN(rules[i],alive = 200, ca_duration = 400, ca_width = 400)\n",
    "    ax.imshow(spacetime,interpolation='nearest',\n",
    "                    cmap = cmap)\n"
   ]
  },
  {
   "cell_type": "markdown",
   "metadata": {},
   "source": [
    "One interesting feature of 17083 and EXP is that local information is carried through the spacetime by 'particles' or propagating bits of information that can interact according to some ruleset. There is probably a deeper meaning in this, which we will not get into here."
   ]
  },
  {
   "cell_type": "markdown",
   "metadata": {
    "collapsed": true
   },
   "source": [
    "# Machine Learning with CA\n",
    "\n",
    "Cellular automata are archetypal patterns, so it's useful to see the qualitative ability for different neural networks to learn CA rulesets. \n",
    "If the neural network can reproduce the output of a CA ruleset (given its initial state), then it has inferred the underlying non-linear dynamics. We shall see that neural networks are challenged by such a task.\n",
    "\n",
    "## Batch Generator\n",
    "First, let's create a batch generator to dole out spacetime examples to our machine learning models."
   ]
  },
  {
   "cell_type": "code",
   "execution_count": 152,
   "metadata": {},
   "outputs": [],
   "source": [
    "def generate(rule, batch_size=10, ca_width=10, memory=0, min_dead=0):\n",
    "    np.random.randint(ca_width+1)\n",
    "    while True:\n",
    "        data = generate_spacetime(rule=rule, \n",
    "                               alive = np.random.randint(ca_width+1-min_dead), \n",
    "                               ca_width=ca_width,\n",
    "                               ca_duration = memory+1)\n",
    "        samples = np.zeros((batch_size, memory+1, ca_width))\n",
    "        targets = np.zeros((batch_size,1, ca_width))\n",
    "        for i in range(batch_size):\n",
    "            samples[i] = data[:-1]\n",
    "            targets[i] = data[-1][0]\n",
    "        yield samples, targets"
   ]
  },
  {
   "cell_type": "code",
   "execution_count": 106,
   "metadata": {},
   "outputs": [
    {
     "data": {
      "text/plain": [
       "(array([[[ 0.,  1.,  1.,  1.,  1.,  0.,  0.,  1.,  1.,  1.]],\n",
       " \n",
       "        [[ 0.,  1.,  1.,  1.,  1.,  0.,  0.,  1.,  1.,  1.]],\n",
       " \n",
       "        [[ 0.,  1.,  1.,  1.,  1.,  0.,  0.,  1.,  1.,  1.]]]),\n",
       " array([[ 1.,  1.,  0.,  0.,  1.,  0.,  1.,  1.,  0.,  1.],\n",
       "        [ 1.,  1.,  0.,  0.,  1.,  0.,  1.,  1.,  0.,  1.],\n",
       "        [ 1.,  1.,  0.,  0.,  1.,  0.,  1.,  1.,  0.,  1.]]))"
      ]
     },
     "execution_count": 106,
     "metadata": {},
     "output_type": "execute_result"
    }
   ],
   "source": [
    "# Testing out the generator\n",
    "gen110 = generate(110, batch_size=3, memory=0)\n",
    "next(gen110)"
   ]
  },
  {
   "cell_type": "code",
   "execution_count": 361,
   "metadata": {},
   "outputs": [],
   "source": [
    "def test_predictions(model, generator):\n",
    "    x,y = next(generator)\n",
    "    correct_predictions = 0\n",
    "    for i in range(1000):\n",
    "        x,y = next(generator)\n",
    "        ypred = model.predict(x)\n",
    "        if(np.abs(np.sum(y - ypred)) < 1):\n",
    "            correct_predictions += 1\n",
    "        \n",
    "    print(\"%d/1000 correct predictions\" % correct_predictions)\n",
    "    \n",
    "def precise_test(model, generator, tests):\n",
    "    x,y = next(generator)\n",
    "    correct_predictions = 0\n",
    "    for i in range(tests):\n",
    "        x,y = next(generator)\n",
    "        ypred = model.predict(x)\n",
    "        if(np.abs(np.sum(y - ypred)) < 1):\n",
    "            correct_predictions += 1\n",
    "        \n",
    "    print(correct_predictions/np.float32(tests))"
   ]
  },
  {
   "cell_type": "markdown",
   "metadata": {},
   "source": [
    "## Dense Network\n",
    "For our first pass attempt, we'll try to train a single fully connected network layer to perform a timestep evolution on a small CA space."
   ]
  },
  {
   "cell_type": "code",
   "execution_count": 329,
   "metadata": {},
   "outputs": [
    {
     "name": "stdout",
     "output_type": "stream",
     "text": [
      "Epoch 1/8\n",
      "4096/4096 [==============================] - 7s 2ms/step - loss: 0.6795 - val_loss: 0.6639\n",
      "Epoch 2/8\n",
      "4096/4096 [==============================] - 6s 2ms/step - loss: 0.6372 - val_loss: 0.6301\n",
      "Epoch 3/8\n",
      "4096/4096 [==============================] - 6s 2ms/step - loss: 0.6273 - val_loss: 0.6103\n",
      "Epoch 4/8\n",
      "4096/4096 [==============================] - 7s 2ms/step - loss: 0.6193 - val_loss: 0.6074\n",
      "Epoch 5/8\n",
      "4096/4096 [==============================] - 6s 2ms/step - loss: 0.6210 - val_loss: 0.6186\n",
      "Epoch 6/8\n",
      "4096/4096 [==============================] - 6s 2ms/step - loss: 0.6180 - val_loss: 0.5994\n",
      "Epoch 7/8\n",
      "4096/4096 [==============================] - 6s 2ms/step - loss: 0.6166 - val_loss: 0.6225\n",
      "Epoch 8/8\n",
      "4096/4096 [==============================] - 7s 2ms/step - loss: 0.6154 - val_loss: 0.6207\n"
     ]
    }
   ],
   "source": [
    "from keras.models import Sequential\n",
    "from keras import layers\n",
    "from keras.optimizers import Adam\n",
    "\n",
    "train_gen110 = generate(110, batch_size=1, memory=0)\n",
    "val_gen110 = generate(110, batch_size=1, memory=0)\n",
    "\n",
    "\n",
    "model = Sequential() \n",
    "model.add(layers.Dense(10, activation='sigmoid',input_shape=(None, 10)))\n",
    "\n",
    "model.compile(optimizer=Adam(), loss='binary_crossentropy')\n",
    "history = model.fit_generator(train_gen110,\n",
    "                             steps_per_epoch=2**12,\n",
    "                             epochs=8,\n",
    "                             validation_data=val_gen110,\n",
    "                             validation_steps=100,\n",
    "                             verbose=1)"
   ]
  },
  {
   "cell_type": "code",
   "execution_count": 330,
   "metadata": {},
   "outputs": [
    {
     "name": "stdout",
     "output_type": "stream",
     "text": [
      "185/1000 correct predictions\n"
     ]
    }
   ],
   "source": [
    "test_predictions(model, val_gen110)"
   ]
  },
  {
   "cell_type": "markdown",
   "metadata": {},
   "source": [
    "## Constraining our search\n",
    "Looking at the output for the above, we see that our model only occasionally makes a correct prediction. One way to make progress on this problem is to look at a smaller subset of the space of initial inputs - we use the min_dead option to specify a sparse initial state."
   ]
  },
  {
   "cell_type": "code",
   "execution_count": 334,
   "metadata": {},
   "outputs": [
    {
     "name": "stdout",
     "output_type": "stream",
     "text": [
      "Epoch 1/8\n",
      "2048/2048 [==============================] - 4s 2ms/step - loss: 0.5335 - val_loss: 0.4211\n",
      "Epoch 2/8\n",
      "2048/2048 [==============================] - 3s 2ms/step - loss: 0.3712 - val_loss: 0.3275\n",
      "Epoch 3/8\n",
      "2048/2048 [==============================] - 3s 2ms/step - loss: 0.2874 - val_loss: 0.2624\n",
      "Epoch 4/8\n",
      "2048/2048 [==============================] - 3s 2ms/step - loss: 0.2263 - val_loss: 0.2007\n",
      "Epoch 5/8\n",
      "2048/2048 [==============================] - 3s 2ms/step - loss: 0.1789 - val_loss: 0.1661\n",
      "Epoch 6/8\n",
      "2048/2048 [==============================] - 3s 2ms/step - loss: 0.1434 - val_loss: 0.1233\n",
      "Epoch 7/8\n",
      "2048/2048 [==============================] - 3s 2ms/step - loss: 0.1119 - val_loss: 0.0977\n",
      "Epoch 8/8\n",
      "2048/2048 [==============================] - 3s 2ms/step - loss: 0.0874 - val_loss: 0.0765\n"
     ]
    }
   ],
   "source": [
    "train_gen110 = generate(110, batch_size=1, memory=0, min_dead=8)\n",
    "val_gen110 = generate(110, batch_size=1, memory=0, min_dead=8)\n",
    "\n",
    "\n",
    "model = Sequential()\n",
    "\n",
    "model.add(layers.Dense(10, activation='sigmoid',input_shape=(None, 10)))\n",
    "\n",
    "model.compile(optimizer=Adam(), loss='binary_crossentropy')\n",
    "history = model.fit_generator(train_gen110,\n",
    "                             steps_per_epoch=2**11,\n",
    "                             epochs=8,\n",
    "                             validation_data=val_gen110,\n",
    "                             validation_steps=100,\n",
    "                             verbose=1)"
   ]
  },
  {
   "cell_type": "code",
   "execution_count": 335,
   "metadata": {},
   "outputs": [
    {
     "name": "stdout",
     "output_type": "stream",
     "text": [
      "1000/1000 correct predictions\n"
     ]
    }
   ],
   "source": [
    "test_predictions(model, val_gen110)"
   ]
  },
  {
   "cell_type": "markdown",
   "metadata": {},
   "source": [
    "## Adding a hidden layer\n",
    "By reducing ourselves to a smaller set of input states we increased our success rate by a factor of 4. Now let's insert some hidden layers to do some thinking."
   ]
  },
  {
   "cell_type": "code",
   "execution_count": 336,
   "metadata": {},
   "outputs": [
    {
     "name": "stdout",
     "output_type": "stream",
     "text": [
      "Epoch 1/10\n",
      "2048/2048 [==============================] - 4s 2ms/step - loss: 0.5615 - val_loss: 0.4253\n",
      "Epoch 2/10\n",
      "2048/2048 [==============================] - 4s 2ms/step - loss: 0.3103 - val_loss: 0.1953\n",
      "Epoch 3/10\n",
      "2048/2048 [==============================] - 4s 2ms/step - loss: 0.1484 - val_loss: 0.0945\n",
      "Epoch 4/10\n",
      "2048/2048 [==============================] - 4s 2ms/step - loss: 0.0678 - val_loss: 0.0426\n",
      "Epoch 5/10\n",
      "2048/2048 [==============================] - 4s 2ms/step - loss: 0.0280 - val_loss: 0.0191\n",
      "Epoch 6/10\n",
      "2048/2048 [==============================] - 4s 2ms/step - loss: 0.0111 - val_loss: 0.0063\n",
      "Epoch 7/10\n",
      "2048/2048 [==============================] - 4s 2ms/step - loss: 0.0042 - val_loss: 0.0025\n",
      "Epoch 8/10\n",
      "2048/2048 [==============================] - 4s 2ms/step - loss: 0.0017 - val_loss: 0.0010\n",
      "Epoch 9/10\n",
      "2048/2048 [==============================] - 4s 2ms/step - loss: 6.3316e-04 - val_loss: 3.4785e-04\n",
      "Epoch 10/10\n",
      "2048/2048 [==============================] - 4s 2ms/step - loss: 2.3918e-04 - val_loss: 1.3287e-04\n"
     ]
    }
   ],
   "source": [
    "train_gen110 = generate(110, batch_size=1, memory=0, min_dead=0)\n",
    "val_gen110 = generate(110, batch_size=1, memory=0, min_dead=0)\n",
    "\n",
    "model = Sequential() \n",
    "\n",
    "model.add(layers.Dense(80, activation='relu', input_shape=(None, 10)))\n",
    "model.add(layers.Dense(10, activation='sigmoid'))\n",
    "\n",
    "model.compile(optimizer=Adam(), loss='binary_crossentropy')\n",
    "history = model.fit_generator(train_gen110,\n",
    "                             steps_per_epoch=2**11,\n",
    "                             epochs=10,\n",
    "                             validation_data=val_gen110,\n",
    "                             validation_steps=100,\n",
    "                             verbose=1)"
   ]
  },
  {
   "cell_type": "markdown",
   "metadata": {},
   "source": [
    "This model seems to have no trouble at all generating correct predictions."
   ]
  },
  {
   "cell_type": "code",
   "execution_count": 337,
   "metadata": {},
   "outputs": [
    {
     "name": "stdout",
     "output_type": "stream",
     "text": [
      "1000/1000 correct predictions\n"
     ]
    }
   ],
   "source": [
    "test_predictions(model, val_gen110)"
   ]
  },
  {
   "cell_type": "code",
   "execution_count": 338,
   "metadata": {},
   "outputs": [
    {
     "data": {
      "image/png": "[encoded data removed]",
      "text/plain": [
       "<matplotlib.figure.Figure at 0x7fb5bca32f50>"
      ]
     },
     "metadata": {},
     "output_type": "display_data"
    }
   ],
   "source": [
    "loss = history.history['loss']\n",
    "val_loss = history.history['val_loss']\n",
    "epochs = np.arange(1, len(loss)+1)\n",
    "pp.plot(epochs, loss, 'bo', label='Training loss')\n",
    "pp.plot(epochs, val_loss, 'b', label='Validation loss')\n",
    "pp.title('Training and validation loss')\n",
    "pp.legend()\n",
    "pp.show()"
   ]
  },
  {
   "cell_type": "markdown",
   "metadata": {},
   "source": [
    "How small can we make the hidden layer to still have 100% performance? "
   ]
  },
  {
   "cell_type": "code",
   "execution_count": 339,
   "metadata": {},
   "outputs": [
    {
     "name": "stdout",
     "output_type": "stream",
     "text": [
      "Epoch 1/10\n",
      "2048/2048 [==============================] - 5s 2ms/step - loss: 0.4138 - val_loss: 0.2448\n",
      "Epoch 2/10\n",
      "2048/2048 [==============================] - 4s 2ms/step - loss: 0.1651 - val_loss: 0.0987\n",
      "Epoch 3/10\n",
      "2048/2048 [==============================] - 4s 2ms/step - loss: 0.0748 - val_loss: 0.0449\n",
      "Epoch 4/10\n",
      "2048/2048 [==============================] - 4s 2ms/step - loss: 0.0366 - val_loss: 0.0168\n",
      "Epoch 5/10\n",
      "2048/2048 [==============================] - 4s 2ms/step - loss: 0.0175 - val_loss: 0.0109\n",
      "Epoch 6/10\n",
      "2048/2048 [==============================] - 4s 2ms/step - loss: 0.0081 - val_loss: 0.0058\n",
      "Epoch 7/10\n",
      "2048/2048 [==============================] - 4s 2ms/step - loss: 0.0035 - val_loss: 0.0025\n",
      "Epoch 8/10\n",
      "2048/2048 [==============================] - 4s 2ms/step - loss: 0.0014 - val_loss: 0.0012\n",
      "Epoch 9/10\n",
      "2048/2048 [==============================] - 4s 2ms/step - loss: 6.3019e-04 - val_loss: 4.4487e-04\n",
      "Epoch 10/10\n",
      "2048/2048 [==============================] - 4s 2ms/step - loss: 2.6691e-04 - val_loss: 1.8354e-04\n"
     ]
    }
   ],
   "source": [
    "train_gen110 = generate(110, batch_size=1, memory=0, min_dead=8)\n",
    "val_gen110 = generate(110, batch_size=1, memory=0, min_dead=8)\n",
    "\n",
    "model = Sequential() \n",
    "\n",
    "model.add(layers.Dense(10, activation='relu', input_shape=(None, 10)))\n",
    "model.add(layers.Dense(10, activation='sigmoid'))\n",
    "\n",
    "model.compile(optimizer=Adam(), loss='binary_crossentropy')\n",
    "history = model.fit_generator(train_gen110,\n",
    "                             steps_per_epoch=2**11,\n",
    "                             epochs=10,\n",
    "                             validation_data=val_gen110,\n",
    "                             validation_steps=100,\n",
    "                             verbose=1)"
   ]
  },
  {
   "cell_type": "code",
   "execution_count": 340,
   "metadata": {},
   "outputs": [
    {
     "name": "stdout",
     "output_type": "stream",
     "text": [
      "1000/1000 correct predictions\n"
     ]
    }
   ],
   "source": [
    "test_predictions(model, val_gen110)"
   ]
  },
  {
   "cell_type": "code",
   "execution_count": 345,
   "metadata": {},
   "outputs": [
    {
     "name": "stdout",
     "output_type": "stream",
     "text": [
      "Epoch 1/10\n",
      "4096/4096 [==============================] - 8s 2ms/step - loss: 0.3983 - val_loss: 0.2456\n",
      "Epoch 2/10\n",
      "4096/4096 [==============================] - 7s 2ms/step - loss: 0.1935 - val_loss: 0.1630\n",
      "Epoch 3/10\n",
      "4096/4096 [==============================] - 7s 2ms/step - loss: 0.1251 - val_loss: 0.0938\n",
      "Epoch 4/10\n",
      "4096/4096 [==============================] - 7s 2ms/step - loss: 0.0997 - val_loss: 0.1072\n",
      "Epoch 5/10\n",
      "4096/4096 [==============================] - 7s 2ms/step - loss: 0.0857 - val_loss: 0.0855\n",
      "Epoch 6/10\n",
      "4096/4096 [==============================] - 7s 2ms/step - loss: 0.0779 - val_loss: 0.0893\n",
      "Epoch 7/10\n",
      "4096/4096 [==============================] - 7s 2ms/step - loss: 0.0712 - val_loss: 0.0471\n",
      "Epoch 8/10\n",
      "4096/4096 [==============================] - 7s 2ms/step - loss: 0.0696 - val_loss: 0.1006\n",
      "Epoch 9/10\n",
      "4096/4096 [==============================] - 7s 2ms/step - loss: 0.0705 - val_loss: 0.0942\n",
      "Epoch 10/10\n",
      "4096/4096 [==============================] - 7s 2ms/step - loss: 0.0690 - val_loss: 0.0535\n"
     ]
    }
   ],
   "source": [
    "train_gen110 = generate(110, batch_size=1, memory=0, min_dead=8)\n",
    "val_gen110 = generate(110, batch_size=1, memory=0, min_dead=8)\n",
    "\n",
    "model = Sequential() \n",
    "\n",
    "model.add(layers.Dense(5, activation='relu', input_shape=(None, 10)))\n",
    "model.add(layers.Dense(10, activation='sigmoid'))\n",
    "\n",
    "model.compile(optimizer=Adam(), loss='binary_crossentropy')\n",
    "history = model.fit_generator(train_gen110,\n",
    "                             steps_per_epoch=2**12,\n",
    "                             epochs=10,\n",
    "                             validation_data=val_gen110,\n",
    "                             validation_steps=100,\n",
    "                             verbose=1)\n",
    "test_predictions(model, val_gen110)"
   ]
  },
  {
   "cell_type": "code",
   "execution_count": 348,
   "metadata": {
    "scrolled": true
   },
   "outputs": [
    {
     "name": "stdout",
     "output_type": "stream",
     "text": [
      "Epoch 1/10\n",
      "4096/4096 [==============================] - 8s 2ms/step - loss: 0.3794 - val_loss: 0.2270\n",
      "Epoch 2/10\n",
      "4096/4096 [==============================] - 7s 2ms/step - loss: 0.1499 - val_loss: 0.1066\n",
      "Epoch 3/10\n",
      "4096/4096 [==============================] - 7s 2ms/step - loss: 0.0845 - val_loss: 0.0732\n",
      "Epoch 4/10\n",
      "4096/4096 [==============================] - 7s 2ms/step - loss: 0.0562 - val_loss: 0.0418\n",
      "Epoch 5/10\n",
      "4096/4096 [==============================] - 7s 2ms/step - loss: 0.0323 - val_loss: 0.0234\n",
      "Epoch 6/10\n",
      "4096/4096 [==============================] - 7s 2ms/step - loss: 0.0185 - val_loss: 0.0192\n",
      "Epoch 7/10\n",
      "4096/4096 [==============================] - 7s 2ms/step - loss: 0.0106 - val_loss: 0.0108\n",
      "Epoch 8/10\n",
      "4096/4096 [==============================] - 7s 2ms/step - loss: 0.0064 - val_loss: 0.0062\n",
      "Epoch 9/10\n",
      "4096/4096 [==============================] - 7s 2ms/step - loss: 0.0035 - val_loss: 0.0026\n",
      "Epoch 10/10\n",
      "4096/4096 [==============================] - 7s 2ms/step - loss: 0.0021 - val_loss: 0.0014\n",
      "1000/1000 correct predictions\n"
     ]
    }
   ],
   "source": [
    "train_gen110 = generate(110, batch_size=1, memory=0, min_dead=8)\n",
    "val_gen110 = generate(110, batch_size=1, memory=0, min_dead=8)\n",
    "\n",
    "model = Sequential() \n",
    "\n",
    "model.add(layers.Dense(6, activation='relu', input_shape=(None, 10)))\n",
    "model.add(layers.Dense(10, activation='sigmoid'))\n",
    "\n",
    "model.compile(optimizer=Adam(), loss='binary_crossentropy')\n",
    "history = model.fit_generator(train_gen110,\n",
    "                             steps_per_epoch=2**12,\n",
    "                             epochs=10,\n",
    "                             validation_data=val_gen110,\n",
    "                             validation_steps=100,\n",
    "                             verbose=1)\n",
    "test_predictions(model, val_gen110)"
   ]
  },
  {
   "cell_type": "code",
   "execution_count": 364,
   "metadata": {},
   "outputs": [
    {
     "name": "stdout",
     "output_type": "stream",
     "text": [
      "1.0\n"
     ]
    }
   ],
   "source": [
    "precise_test(model, val_gen110, 100000)"
   ]
  },
  {
   "cell_type": "markdown",
   "metadata": {},
   "source": [
    "Given that the intermediate layer is smaller than the input and output layers, it's remarkabe that we're able to get 99.999+% accuracy. One topic to explore is using autoencoding to create minimal layers for reproducing multiple CA rulesets."
   ]
  },
  {
   "cell_type": "code",
   "execution_count": null,
   "metadata": {
    "collapsed": true
   },
   "outputs": [],
   "source": []
  }
 ],
 "metadata": {
  "kernelspec": {
   "display_name": "Python 2",
   "language": "python",
   "name": "python2"
  },
  "language_info": {
   "codemirror_mode": {
    "name": "ipython",
    "version": 2
   },
   "file_extension": ".py",
   "mimetype": "text/x-python",
   "name": "python",
   "nbconvert_exporter": "python",
   "pygments_lexer": "ipython2",
   "version": "2.7.13"
  }
 },
 "nbformat": 4,
 "nbformat_minor": 2
}
