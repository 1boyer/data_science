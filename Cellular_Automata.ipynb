{
 "cells": [
  {
   "cell_type": "markdown",
   "metadata": {},
   "source": [
    "# Cellular Automata and Computation\n",
    "\n",
    "In this workbook I investigate cellular automata visually and using machine learning. In our case cellular automata (CA) will be an array of 'cells' which take some value. The states of the cells will evolve in time based on their neighbors. CA evolution is often greatly simplified by restricting update rules to interactions between nearest or next-to-nearest neighbors.\n",
    "\n",
    "One obvious problem to investigate is the degree to which the function of a cellular automaton can be modelled using machine learning methods. In the first part I'll begin by generating some cellular automata for viewing."
   ]
  },
  {
   "cell_type": "code",
   "execution_count": 7,
   "metadata": {},
   "outputs": [],
   "source": [
    "import numpy as np\n",
    "import matplotlib.pyplot as pp\n",
    "%matplotlib inline\n",
    "import seaborn"
   ]
  },
  {
   "cell_type": "markdown",
   "metadata": {},
   "source": [
    "## Cellular Automata Spacetime\n",
    "A CA spacetime is a matrix with each column representing the evolution of a cell through time. The following function begins with a single array indicating the initial state of the CA universe and constructs the matrix one row at a time by evolving the matrix according to a ruleset."
   ]
  },
  {
   "cell_type": "code",
   "execution_count": 85,
   "metadata": {},
   "outputs": [],
   "source": [
    "def generate_spacetime_NNN(rule, n = 200, ca_duration = 400, ca_width = 400):\n",
    "    m = ca_width-n\n",
    "    spacetime = []\n",
    "    space = np.int64( np.hstack((np.ones(n), np.zeros(m))) )\n",
    "    np.random.shuffle( space )\n",
    "    spacetime.append( space )\n",
    "    s0 = list(range(ca_width))\n",
    "    sl3 = s0[3:] + s0[:3]\n",
    "    sl2 = s0[2:] + s0[:2]\n",
    "    sl1 = s0[1:] + s0[:1]\n",
    "    sr1 = s0[-1:] + s0[:-1]\n",
    "    sr2 = s0[-2:] + s0[:-2]\n",
    "    sr3 = s0[-3:] + s0[:-3]\n",
    "\n",
    "    for time_step in range(ca_duration):\n",
    "        values = 64*spacetime[time_step][sr3] + 32*spacetime[time_step][sr2] + 16*spacetime[time_step][sr1] + 8*spacetime[time_step][s0] + 4*spacetime[time_step][sl1] + 2*spacetime[time_step][sl2] + spacetime[time_step][sl3]\n",
    "        space = []\n",
    "        for value in values:\n",
    "            if ((np.uint64(rule[value//64]) << np.uint64(value % 64)) & 0x8000000000000000):\n",
    "                space.append(1)\n",
    "            else:\n",
    "                space.append(0)\n",
    "        spacetime.append( np.asarray(space) )\n",
    "\n",
    "    return np.asmatrix(spacetime)"
   ]
  },
  {
   "cell_type": "code",
   "execution_count": 103,
   "metadata": {},
   "outputs": [],
   "source": [
    "from matplotlib.colors import ListedColormap\n",
    "\n",
    "def show_spacetime(spacetime):\n",
    "    # make a color map of fixed colors\n",
    "    cmap = ListedColormap(['gold','black'])\n",
    "    # tell imshow about color map so that only set colors are used\n",
    "    img = pp.imshow(spacetime,interpolation='nearest',\n",
    "                    cmap = cmap)\n",
    "    #pp.colorbar(img,cmap=cmap, ticks=[0,1])\n",
    "    pp.show()"
   ]
  },
  {
   "cell_type": "markdown",
   "metadata": {},
   "source": [
    "Now let's look at three spacetimes for CA rulesets which have been found to perform the computational task of identifying whether the spacetime is mostly in the on or off state."
   ]
  },
  {
   "cell_type": "code",
   "execution_count": 112,
   "metadata": {
    "scrolled": true
   },
   "outputs": [
    {
     "data": {
      "image/png": "[encoded data removed]",
      "text/plain": [
       "<Figure size 432x288 with 3 Axes>"
      ]
     },
     "metadata": {},
     "output_type": "display_data"
    }
   ],
   "source": [
    "rule_17083 = [0x031001001fa00013, 0x331f9fff5975ffff]\n",
    "rule_exp = [0x0505408305c90101, 0x200b0efb94c7cff7]\n",
    "rule_majority = [0x0001011701171777, 0x01171777177f7fff]\n",
    "rules = [rule_17083, rule_exp, rule_majority]\n",
    "titles = ['17083', 'EXP', 'Majority']\n",
    "\n",
    "from matplotlib.colors import ListedColormap\n",
    "fig, subfigs = pp.subplots(1,3)\n",
    "cmap = ListedColormap(['gold','black'])\n",
    "fig.suptitle('Three CA Rulesets with Computation', fontsize=20)\n",
    "\n",
    "for i in range(3):\n",
    "    ax = subfigs[i]\n",
    "    ax.set_title(titles[i])\n",
    "    spacetime = generate_spacetime_NNN(rules[i],n = 200, ca_duration = 400, ca_width = 400)\n",
    "    ax.imshow(spacetime,interpolation='nearest',\n",
    "                    cmap = cmap)\n"
   ]
  },
  {
   "cell_type": "markdown",
   "metadata": {},
   "source": [
    "One interesting feature of 17083 and EXP is that local information is carried through the spacetime by 'particles' or propagating bits of information that can interact according to some ruleset. There is probably a deeper meaning in this, which we will not get into here.\n",
    "\n",
    "# This notebook is still under construction - check back for more in the coming week 7/25"
   ]
  },
  {
   "cell_type": "code",
   "execution_count": null,
   "metadata": {},
   "outputs": [],
   "source": []
  }
 ],
 "metadata": {
  "kernelspec": {
   "display_name": "Python 3",
   "language": "python",
   "name": "python3"
  },
  "language_info": {
   "codemirror_mode": {
    "name": "ipython",
    "version": 3
   },
   "file_extension": ".py",
   "mimetype": "text/x-python",
   "name": "python",
   "nbconvert_exporter": "python",
   "pygments_lexer": "ipython3",
   "version": "3.6.5"
  }
 },
 "nbformat": 4,
 "nbformat_minor": 2
}
