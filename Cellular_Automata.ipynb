{
 "cells": [
  {
   "cell_type": "markdown",
   "metadata": {},
   "source": [
    "# Cellular Automata and Computation\n",
    "\n",
    "In this workbook I investigate cellular automata visually and using machine learning. In our case cellular automata (CA) will be an array of 'cells' which take some value. The states of the cells will evolve in time based on their neighbors. CA evolution is often greatly simplified by restricting update rules to interactions between nearest or next-to-nearest neighbors.\n",
    "\n",
    "One obvious problem to investigate is the degree to which the function of a cellular automaton can be modelled using machine learning methods. In the first part I'll begin by generating some cellular automata for viewing."
   ]
  },
  {
   "cell_type": "code",
   "execution_count": 1,
   "metadata": {
    "collapsed": true
   },
   "outputs": [],
   "source": [
    "import numpy as np\n",
    "import matplotlib.pyplot as pp\n",
    "%matplotlib inline\n",
    "#import seaborn"
   ]
  },
  {
   "cell_type": "markdown",
   "metadata": {},
   "source": [
    "## Cellular Automata Spacetime\n",
    "A CA spacetime is a matrix with each column representing the evolution of a cell through time. The following function begins with a single array indicating the initial state of the CA universe and constructs the matrix one row at a time by evolving the matrix according to a ruleset."
   ]
  },
  {
   "cell_type": "code",
   "execution_count": 395,
   "metadata": {
    "collapsed": true
   },
   "outputs": [],
   "source": [
    "def generate_spacetime(rule, alive = 15, ca_width=30, ca_duration = 30, initial_state=None):\n",
    "    dead = ca_width-alive\n",
    "    spacetime = []\n",
    "    space = np.int64( np.hstack((np.ones(alive), np.zeros(dead))) )\n",
    "     np.random.shuffle( space )\n",
    "\n",
    "    spacetime.append( space )\n",
    "\n",
    "    s0 = list(range(ca_width))\n",
    "    sl1 = s0[1:] + s0[:1]\n",
    "    sr1 = s0[-1:] + s0[:-1]\n",
    "\n",
    "\n",
    "    for time_step in xrange(ca_duration):\n",
    "        values = 4*spacetime[time_step][sr1] + 2*spacetime[time_step][s0] + 1*spacetime[time_step][sl1]\n",
    "        space = [] \n",
    "        for value in values:\n",
    "            if (rule >> value) & 0x1:\n",
    "                space.append(1)\n",
    "            else:\n",
    "                space.append(0)\n",
    "        spacetime.append( np.asarray(space) )\n",
    "\n",
    "    return np.asmatrix(spacetime)\n",
    "\n",
    "\n",
    "def generate_spacetime_NNN(rule, alive = 200, ca_width = 400, ca_duration = 400):\n",
    "    dead = ca_width-alive\n",
    "    spacetime = []\n",
    "    space = np.int64( np.hstack((np.ones(alive), np.zeros(dead))) )\n",
    "    np.random.shuffle( space )\n",
    "    spacetime.append( space )\n",
    "    s0 = list(range(ca_width))\n",
    "    sl3 = s0[3:] + s0[:3]\n",
    "    sl2 = s0[2:] + s0[:2]\n",
    "    sl1 = s0[1:] + s0[:1]\n",
    "    sr1 = s0[-1:] + s0[:-1]\n",
    "    sr2 = s0[-2:] + s0[:-2]\n",
    "    sr3 = s0[-3:] + s0[:-3]\n",
    "\n",
    "    for time_step in range(ca_duration):\n",
    "        values = 64*spacetime[time_step][sr3] + 32*spacetime[time_step][sr2] + 16*spacetime[time_step][sr1] + 8*spacetime[time_step][s0] + 4*spacetime[time_step][sl1] + 2*spacetime[time_step][sl2] + spacetime[time_step][sl3]\n",
    "        space = []\n",
    "        for value in values:\n",
    "            if ((np.uint64(rule[value//64]) << np.uint64(value % 64)) & 0x8000000000000000):\n",
    "                space.append(1)\n",
    "            else:\n",
    "                space.append(0)\n",
    "        spacetime.append( np.asarray(space) )\n",
    "\n",
    "    return np.asmatrix(spacetime)"
   ]
  },
  {
   "cell_type": "code",
   "execution_count": 396,
   "metadata": {
    "collapsed": true
   },
   "outputs": [],
   "source": [
    "from matplotlib.colors import ListedColormap\n",
    "\n",
    "def show_spacetime(spacetime):\n",
    "    # make a color map of fixed colors\n",
    "    cmap = ListedColormap(['gold','black'])\n",
    "    # tell imshow about color map so that only set colors are used\n",
    "    img = pp.imshow(spacetime,interpolation='nearest',\n",
    "                    cmap = cmap)\n",
    "    #pp.colorbar(img,cmap=cmap, ticks=[0,1])\n",
    "    pp.show()"
   ]
  },
  {
   "cell_type": "markdown",
   "metadata": {},
   "source": [
    "# Elementary CA examples\n",
    "First we look at the simple case of CA update rules that only depend on nearest neighboring cells. These 'elementary cellular automata' were classified by Stephen Wolfram who found the 2^3 inputs to each cell meant that each ruleset could be numbered with an 8 digit binary number. This gives 256 different possible rules. The nearest neighbor spacetime generator above takes a number between 0 and 255 and returns a corresponding spacetime."
   ]
  },
  {
   "cell_type": "code",
   "execution_count": 393,
   "metadata": {},
   "outputs": [
    {
     "data": {
      "image/png": "[encoded data removed]",
      "text/plain": [
       "<matplotlib.figure.Figure at 0x7fb5b9eb88d0>"
      ]
     },
     "metadata": {},
     "output_type": "display_data"
    }
   ],
   "source": [
    "\n",
    "rules = [18, 30, 110, 182]\n",
    "titles = [str(x) for x in rules]\n",
    "\n",
    "from matplotlib.colors import ListedColormap\n",
    "fig, subfigs = pp.subplots(1,4,figsize=(16, 5))\n",
    "cmap = ListedColormap(['gold','black'])\n",
    "fig.suptitle('Four Interesting CA Rulesets', fontsize=20)\n",
    "\n",
    "for i in range(4):\n",
    "    ax = subfigs[i]\n",
    "    ax.set_title(titles[i])\n",
    "    spacetime = generate_spacetime(rules[i],alive = 3, ca_duration = 20, ca_width = 20)\n",
    "    ax.imshow(spacetime,interpolation='nearest',\n",
    "                    cmap = cmap)\n"
   ]
  },
  {
   "cell_type": "markdown",
   "metadata": {},
   "source": [
    "## Next-to-Nearest-Neighbor CA that solve a particular problem\n",
    "\n",
    "Now let's look at three spacetimes for CA rulesets which have been found to perform the computational task of identifying whether the spacetime is mostly in the gold or black state."
   ]
  },
  {
   "cell_type": "code",
   "execution_count": 8,
   "metadata": {
    "scrolled": true
   },
   "outputs": [
    {
     "data": {
      "image/png": "[encoded data removed]",
      "text/plain": [
       "<matplotlib.figure.Figure at 0x7fb608550810>"
      ]
     },
     "metadata": {},
     "output_type": "display_data"
    }
   ],
   "source": [
    "rule_17083 = [0x031001001fa00013, 0x331f9fff5975ffff]\n",
    "rule_exp = [0x0505408305c90101, 0x200b0efb94c7cff7]\n",
    "rule_majority = [0x0001011701171777, 0x01171777177f7fff]\n",
    "rules = [rule_17083, rule_exp, rule_majority]\n",
    "titles = ['17083', 'EXP', 'Majority']\n",
    "\n",
    "from matplotlib.colors import ListedColormap\n",
    "fig, subfigs = pp.subplots(1,3,figsize=(16, 5))\n",
    "cmap = ListedColormap(['gold','black'])\n",
    "fig.suptitle('Three CA Rulesets with Computation', fontsize=20)\n",
    "\n",
    "for i in range(3):\n",
    "    ax = subfigs[i]\n",
    "    ax.set_title(titles[i])\n",
    "    spacetime = generate_spacetime_NNN(rules[i],alive = 200, ca_duration = 400, ca_width = 400)\n",
    "    ax.imshow(spacetime,interpolation='nearest',\n",
    "                    cmap = cmap)\n"
   ]
  },
  {
   "cell_type": "markdown",
   "metadata": {},
   "source": [
    "One interesting feature of 17083 and EXP is that local information is carried through the spacetime by 'particles' or propagating bits of information that can interact according to some ruleset. There is probably a deeper meaning in this, which we will not get into here."
   ]
  },
  {
   "cell_type": "markdown",
   "metadata": {
    "collapsed": true
   },
   "source": [
    "# Machine Learning with CA\n",
    "\n",
    "Cellular automata are archetypal patterns, so it's useful to see the qualitative ability for different neural networks to learn CA rulesets. \n",
    "If the neural network can reproduce the output of a CA ruleset (given its initial state), then it has inferred the underlying non-linear dynamics. We shall see that neural networks are challenged by such a task.\n",
    "\n",
    "## Batch Generator\n",
    "First, let's create a batch generator to dole out spacetime examples to our machine learning models."
   ]
  },
  {
   "cell_type": "code",
   "execution_count": 486,
   "metadata": {},
   "outputs": [],
   "source": [
    "def generate(rule, batch_size=10, ca_width=10, memory=0, min_dead=0):\n",
    "    np.random.randint(ca_width+1)\n",
    "    while True:\n",
    "        data = generate_spacetime(rule=rule, \n",
    "                               alive = np.random.randint(ca_width+1-min_dead), \n",
    "                               ca_width=ca_width,\n",
    "                               ca_duration = memory+1)\n",
    "        samples = np.zeros((batch_size, memory+1, ca_width))\n",
    "        targets = np.zeros((batch_size,1, ca_width))\n",
    "        for i in range(batch_size):\n",
    "            samples[i] = data[:-1]\n",
    "            targets[i] = data[-1][0]\n",
    "        yield samples, targets"
   ]
  },
  {
   "cell_type": "code",
   "execution_count": 106,
   "metadata": {},
   "outputs": [
    {
     "data": {
      "text/plain": [
       "(array([[[ 0.,  1.,  1.,  1.,  1.,  0.,  0.,  1.,  1.,  1.]],\n",
       " \n",
       "        [[ 0.,  1.,  1.,  1.,  1.,  0.,  0.,  1.,  1.,  1.]],\n",
       " \n",
       "        [[ 0.,  1.,  1.,  1.,  1.,  0.,  0.,  1.,  1.,  1.]]]),\n",
       " array([[ 1.,  1.,  0.,  0.,  1.,  0.,  1.,  1.,  0.,  1.],\n",
       "        [ 1.,  1.,  0.,  0.,  1.,  0.,  1.,  1.,  0.,  1.],\n",
       "        [ 1.,  1.,  0.,  0.,  1.,  0.,  1.,  1.,  0.,  1.]]))"
      ]
     },
     "execution_count": 106,
     "metadata": {},
     "output_type": "execute_result"
    }
   ],
   "source": [
    "# Testing out the generator\n",
    "gen110 = generate(110, batch_size=3, memory=0)\n",
    "next(gen110)"
   ]
  },
  {
   "cell_type": "code",
   "execution_count": 361,
   "metadata": {},
   "outputs": [],
   "source": [
    "def test_predictions(model, generator):\n",
    "    for i in range(10000):\n",
    "        x,y = next(val_gen110)\n",
    "        ypred = model.predict(x)\n",
    "        if((1-y[0][0]).dot(np.around(ypred[0][0])) < 1):\n",
    "            correct_predictions += 1\n",
    "        \n",
    "    print(\"%d/10000 correct predictions\" % correct_predictions)\n",
    "    \n",
    "def precise_test(model, generator, tests):\n",
    "    x,y = next(generator)\n",
    "    correct_predictions = 0\n",
    "    for i in range(tests):\n",
    "        x,y = next(generator)\n",
    "        ypred = model.predict(x)\n",
    "        if(np.abs(np.sum(y - ypred)) < 1):\n",
    "            correct_predictions += 1\n",
    "        \n",
    "    print(correct_predictions/np.float32(tests))"
   ]
  },
  {
   "cell_type": "markdown",
   "metadata": {},
   "source": [
    "## Dense Network\n",
    "For our first pass attempt, we'll try to train a single fully connected network layer to perform a timestep evolution on a small CA space. Because our output consists of mutually non-exclusive binary labels, we want to use a sigmoid activiation function with binary crossentropy loss."
   ]
  },
  {
   "cell_type": "code",
   "execution_count": 488,
   "metadata": {},
   "outputs": [
    {
     "name": "stdout",
     "output_type": "stream",
     "text": [
      "Epoch 1/8\n",
      "4096/4096 [==============================] - 9s 2ms/step - loss: 0.6789 - val_loss: 0.6592\n",
      "Epoch 2/8\n",
      "4096/4096 [==============================] - 8s 2ms/step - loss: 0.6385 - val_loss: 0.6339\n",
      "Epoch 3/8\n",
      "4096/4096 [==============================] - 8s 2ms/step - loss: 0.6269 - val_loss: 0.6184\n",
      "Epoch 4/8\n",
      "4096/4096 [==============================] - 8s 2ms/step - loss: 0.6173 - val_loss: 0.6408\n",
      "Epoch 5/8\n",
      "4096/4096 [==============================] - 8s 2ms/step - loss: 0.6219 - val_loss: 0.6233\n",
      "Epoch 6/8\n",
      "4096/4096 [==============================] - 8s 2ms/step - loss: 0.6188 - val_loss: 0.6020\n",
      "Epoch 7/8\n",
      "4096/4096 [==============================] - 8s 2ms/step - loss: 0.6167 - val_loss: 0.6225\n",
      "Epoch 8/8\n",
      "4096/4096 [==============================] - 8s 2ms/step - loss: 0.6194 - val_loss: 0.6134\n"
     ]
    }
   ],
   "source": [
    "from keras.models import Sequential\n",
    "from keras import layers\n",
    "from keras.optimizers import Adam\n",
    "\n",
    "train_gen110 = generate(110, batch_size=1, memory=0)\n",
    "val_gen110 = generate(110, batch_size=1, memory=0)\n",
    "\n",
    "\n",
    "model = Sequential() \n",
    "model.add(layers.Dense(10, activation='sigmoid',input_shape=(None, 10)))\n",
    "\n",
    "model.compile(optimizer=Adam(), loss='binary_crossentropy')\n",
    "history = model.fit_generator(train_gen110,\n",
    "                             steps_per_epoch=2**12,\n",
    "                             epochs=8,\n",
    "                             validation_data=val_gen110,\n",
    "                             validation_steps=100,\n",
    "                             verbose=1)"
   ]
  },
  {
   "cell_type": "code",
   "execution_count": 485,
   "metadata": {},
   "outputs": [
    {
     "name": "stdout",
     "output_type": "stream",
     "text": [
      "117/1000 correct predictions\n"
     ]
    }
   ],
   "source": [
    "test_predictions(model, val_gen110)"
   ]
  },
  {
   "cell_type": "markdown",
   "metadata": {},
   "source": [
    "## Adding a hidden layer\n",
    "By reducing ourselves to a smaller set of input states we increased our success rate by a factor of 4. Now let's insert some hidden layers to do some thinking."
   ]
  },
  {
   "cell_type": "code",
   "execution_count": 474,
   "metadata": {},
   "outputs": [
    {
     "name": "stdout",
     "output_type": "stream",
     "text": [
      "Epoch 1/10\n",
      "2048/2048 [==============================] - 5s 3ms/step - loss: 0.5757 - val_loss: 0.4691\n",
      "Epoch 2/10\n",
      "2048/2048 [==============================] - 4s 2ms/step - loss: 0.3371 - val_loss: 0.2540\n",
      "Epoch 3/10\n",
      "2048/2048 [==============================] - 5s 2ms/step - loss: 0.1694 - val_loss: 0.1306\n",
      "Epoch 4/10\n",
      "2048/2048 [==============================] - 4s 2ms/step - loss: 0.0783 - val_loss: 0.0481\n",
      "Epoch 5/10\n",
      "2048/2048 [==============================] - 4s 2ms/step - loss: 0.0334 - val_loss: 0.0209\n",
      "Epoch 6/10\n",
      "2048/2048 [==============================] - 4s 2ms/step - loss: 0.0133 - val_loss: 0.0083\n",
      "Epoch 7/10\n",
      "2048/2048 [==============================] - 3s 2ms/step - loss: 0.0053 - val_loss: 0.0031\n",
      "Epoch 8/10\n",
      "2048/2048 [==============================] - 3s 2ms/step - loss: 0.0021 - val_loss: 0.0013\n",
      "Epoch 9/10\n",
      "2048/2048 [==============================] - 3s 2ms/step - loss: 7.7920e-04 - val_loss: 4.4041e-04\n",
      "Epoch 10/10\n",
      "2048/2048 [==============================] - 3s 2ms/step - loss: 3.0222e-04 - val_loss: 1.7367e-04\n"
     ]
    }
   ],
   "source": [
    "train_gen110 = generate(110, batch_size=1, memory=0, min_dead=0)\n",
    "val_gen110 = generate(110, batch_size=1, memory=0, min_dead=0)\n",
    "\n",
    "model = Sequential() \n",
    "\n",
    "model.add(layers.Dense(80, activation='relu', input_shape=(None, 10)))\n",
    "model.add(layers.Dense(10, activation='sigmoid'))\n",
    "\n",
    "model.compile(optimizer=Adam(), loss='binary_crossentropy')\n",
    "history = model.fit_generator(train_gen110,\n",
    "                             steps_per_epoch=2**11,\n",
    "                             epochs=10,\n",
    "                             validation_data=val_gen110,\n",
    "                             validation_steps=100,\n",
    "                             verbose=1)"
   ]
  },
  {
   "cell_type": "markdown",
   "metadata": {},
   "source": [
    "This model seems to have no trouble at all generating correct predictions."
   ]
  },
  {
   "cell_type": "code",
   "execution_count": 463,
   "metadata": {},
   "outputs": [
    {
     "name": "stdout",
     "output_type": "stream",
     "text": [
      "1000/1000 correct predictions\n"
     ]
    }
   ],
   "source": [
    "test_predictions(model, val_gen110)"
   ]
  },
  {
   "cell_type": "code",
   "execution_count": 464,
   "metadata": {},
   "outputs": [
    {
     "data": {
      "image/png": "[encoded data removed]",
      "text/plain": [
       "<matplotlib.figure.Figure at 0x7fb5b36ae890>"
      ]
     },
     "metadata": {},
     "output_type": "display_data"
    }
   ],
   "source": [
    "loss = history.history['loss']\n",
    "val_loss = history.history['val_loss']\n",
    "epochs = np.arange(1, len(loss)+1)\n",
    "pp.plot(epochs, loss, 'bo', label='Training loss')\n",
    "pp.plot(epochs, val_loss, 'b', label='Validation loss')\n",
    "pp.title('Training and validation loss')\n",
    "pp.legend()\n",
    "pp.show()"
   ]
  },
  {
   "cell_type": "markdown",
   "metadata": {},
   "source": [
    "\n",
    "\n",
    "## How well does our neural network recreate the rule output?\n",
    "\n",
    "The model functions for a random input state, but can it iteratively generate a valid spacetime? Below we write some functions to evolve an initial CA space in time and then compare the iterated model with an 80 unit hidden layer."
   ]
  },
  {
   "cell_type": "code",
   "execution_count": 492,
   "metadata": {},
   "outputs": [],
   "source": [
    "def model_evolve(model, space, duration=10):\n",
    "    spacetime = []\n",
    "    spacetime.append( space )\n",
    "\n",
    "    for time_step in xrange(duration):\n",
    "        space = np.around(model.predict(np.array([[space]]))[0][0])\n",
    "        spacetime.append( np.asarray(space) )\n",
    "\n",
    "    return np.asmatrix(spacetime)\n",
    "\n",
    "def true_evolve(rule, space, duration=10):\n",
    "    spacetime = []\n",
    "    ca_width = space.shape[0]\n",
    "    spacetime.append( space )\n",
    "\n",
    "    s0 = list(range(ca_width))\n",
    "    sl1 = s0[1:] + s0[:1]\n",
    "    sr1 = s0[-1:] + s0[:-1]\n",
    "\n",
    "\n",
    "    for time_step in xrange(duration):\n",
    "        values = 4*spacetime[time_step][sr1] + 2*spacetime[time_step][s0] + 1*spacetime[time_step][sl1]\n",
    "        space = [] \n",
    "        for value in values:\n",
    "            if (rule >> np.int64(value)) & 0x1:\n",
    "                space.append(1)\n",
    "            else:\n",
    "                space.append(0)\n",
    "        spacetime.append( np.asarray(space) )\n",
    "\n",
    "    return np.asmatrix(spacetime)\n"
   ]
  },
  {
   "cell_type": "markdown",
   "metadata": {},
   "source": [
    "Now let's look at two examples"
   ]
  },
  {
   "cell_type": "code",
   "execution_count": 475,
   "metadata": {},
   "outputs": [
    {
     "data": {
      "image/png": "[encoded data removed]",
      "text/plain": [
       "<matplotlib.figure.Figure at 0x7fb5b2528650>"
      ]
     },
     "metadata": {},
     "output_type": "display_data"
    }
   ],
   "source": [
    "x,y = next(val_gen110)\n",
    "st1 = model_evolve(model, x[0][0])\n",
    "st2 = true_evolve(110, x[0][0])\n",
    "\n",
    "from matplotlib.colors import ListedColormap\n",
    "fig, (ax1, ax2) = pp.subplots(1,2,figsize=(12, 6))\n",
    "cmap = ListedColormap(['gold','black'])\n",
    "fig.suptitle('Comparison of NN and Ruleset Evolution', fontsize=20)\n",
    "\n",
    "ax1.set_title(\"Model Output\")\n",
    "ax1.imshow(st1,interpolation='nearest',\n",
    "                    cmap = cmap)\n",
    "ax2.set_title(\"Rule Output\")\n",
    "ax2.imshow(st2,interpolation='nearest',\n",
    "                    cmap = cmap)\n",
    "pp.show()"
   ]
  },
  {
   "cell_type": "code",
   "execution_count": 476,
   "metadata": {},
   "outputs": [
    {
     "data": {
      "image/png": "[encoded data removed]",
      "text/plain": [
       "<matplotlib.figure.Figure at 0x7fb5b213ec90>"
      ]
     },
     "metadata": {},
     "output_type": "display_data"
    }
   ],
   "source": [
    "x,y = next(val_gen110)\n",
    "st1 = model_evolve(model, x[0][0])\n",
    "st2 = true_evolve(110, x[0][0])\n",
    "\n",
    "from matplotlib.colors import ListedColormap\n",
    "fig, (ax1, ax2) = pp.subplots(1,2,figsize=(12, 6))\n",
    "cmap = ListedColormap(['gold','black'])\n",
    "fig.suptitle('Comparison of NN and Ruleset Evolution', fontsize=20)\n",
    "\n",
    "ax1.set_title(\"Model Output\")\n",
    "ax1.imshow(st1,interpolation='nearest',\n",
    "                    cmap = cmap)\n",
    "ax2.set_title(\"Rule Output\")\n",
    "ax2.imshow(st2,interpolation='nearest',\n",
    "                    cmap = cmap)\n",
    "pp.show()"
   ]
  },
  {
   "cell_type": "markdown",
   "metadata": {},
   "source": [
    "# Scaling up the Model\n",
    "\n",
    "The number of parameters necessary for modeling a CA is proportional to the square of the input - this suggests that as we make the model larger, we're going to have an increasingly difficult time learning a CA ruleset for a large system."
   ]
  },
  {
   "cell_type": "code",
   "execution_count": 489,
   "metadata": {},
   "outputs": [
    {
     "name": "stdout",
     "output_type": "stream",
     "text": [
      "Epoch 1/50\n",
      "4096/4096 [==============================] - 11s 3ms/step - loss: 0.6095 - val_loss: 0.5280\n",
      "Epoch 2/50\n",
      "4096/4096 [==============================] - 9s 2ms/step - loss: 0.5065 - val_loss: 0.4911\n",
      "Epoch 3/50\n",
      "4096/4096 [==============================] - 9s 2ms/step - loss: 0.4682 - val_loss: 0.4961\n",
      "Epoch 4/50\n",
      "4096/4096 [==============================] - 9s 2ms/step - loss: 0.4449 - val_loss: 0.4554\n",
      "Epoch 5/50\n",
      "4096/4096 [==============================] - 9s 2ms/step - loss: 0.4293 - val_loss: 0.4071\n",
      "Epoch 6/50\n",
      "4096/4096 [==============================] - 9s 2ms/step - loss: 0.4152 - val_loss: 0.4023\n",
      "Epoch 7/50\n",
      "4096/4096 [==============================] - 10s 2ms/step - loss: 0.3997 - val_loss: 0.3776\n",
      "Epoch 8/50\n",
      "4096/4096 [==============================] - 9s 2ms/step - loss: 0.3665 - val_loss: 0.3571\n",
      "Epoch 9/50\n",
      "4096/4096 [==============================] - 10s 2ms/step - loss: 0.3370 - val_loss: 0.3220\n",
      "Epoch 10/50\n",
      "4096/4096 [==============================] - 10s 2ms/step - loss: 0.3109 - val_loss: 0.2844\n",
      "Epoch 11/50\n",
      "4096/4096 [==============================] - 10s 2ms/step - loss: 0.2677 - val_loss: 0.2622\n",
      "Epoch 12/50\n",
      "4096/4096 [==============================] - 10s 2ms/step - loss: 0.2282 - val_loss: 0.2149\n",
      "Epoch 13/50\n",
      "4096/4096 [==============================] - 10s 2ms/step - loss: 0.1887 - val_loss: 0.1585\n",
      "Epoch 14/50\n",
      "4096/4096 [==============================] - 10s 2ms/step - loss: 0.1534 - val_loss: 0.1359\n",
      "Epoch 15/50\n",
      "4096/4096 [==============================] - 10s 2ms/step - loss: 0.1231 - val_loss: 0.1158\n",
      "Epoch 16/50\n",
      "4096/4096 [==============================] - 10s 2ms/step - loss: 0.0972 - val_loss: 0.0757\n",
      "Epoch 17/50\n",
      "4096/4096 [==============================] - 10s 2ms/step - loss: 0.0780 - val_loss: 0.0708\n",
      "Epoch 18/50\n",
      "4096/4096 [==============================] - 10s 2ms/step - loss: 0.0621 - val_loss: 0.0534\n",
      "Epoch 19/50\n",
      "4096/4096 [==============================] - 10s 2ms/step - loss: 0.0513 - val_loss: 0.0496\n",
      "Epoch 20/50\n",
      "4096/4096 [==============================] - 10s 2ms/step - loss: 0.0414 - val_loss: 0.0376\n",
      "Epoch 21/50\n",
      "4096/4096 [==============================] - 10s 2ms/step - loss: 0.0361 - val_loss: 0.0314\n",
      "Epoch 22/50\n",
      "4096/4096 [==============================] - 10s 2ms/step - loss: 0.0301 - val_loss: 0.0267\n",
      "Epoch 23/50\n",
      "4096/4096 [==============================] - 10s 2ms/step - loss: 0.0265 - val_loss: 0.0208\n",
      "Epoch 24/50\n",
      "4096/4096 [==============================] - 10s 2ms/step - loss: 0.0225 - val_loss: 0.0236\n",
      "Epoch 25/50\n",
      "4096/4096 [==============================] - 10s 2ms/step - loss: 0.0197 - val_loss: 0.0190\n",
      "Epoch 26/50\n",
      "4096/4096 [==============================] - 10s 3ms/step - loss: 0.0172 - val_loss: 0.0121\n",
      "Epoch 27/50\n",
      "4096/4096 [==============================] - 10s 2ms/step - loss: 0.0154 - val_loss: 0.0148\n",
      "Epoch 28/50\n",
      "4096/4096 [==============================] - 9s 2ms/step - loss: 0.0135 - val_loss: 0.0144\n",
      "Epoch 29/50\n",
      "4096/4096 [==============================] - 9s 2ms/step - loss: 0.0124 - val_loss: 0.0117\n",
      "Epoch 30/50\n",
      "4096/4096 [==============================] - 9s 2ms/step - loss: 0.0113 - val_loss: 0.0109\n",
      "Epoch 31/50\n",
      "4096/4096 [==============================] - 11s 3ms/step - loss: 0.0107 - val_loss: 0.0113\n",
      "Epoch 32/50\n",
      "4096/4096 [==============================] - 10s 3ms/step - loss: 0.0093 - val_loss: 0.0080\n",
      "Epoch 33/50\n",
      "4096/4096 [==============================] - 10s 2ms/step - loss: 0.0090 - val_loss: 0.0068\n",
      "Epoch 34/50\n",
      "4096/4096 [==============================] - 10s 2ms/step - loss: 0.0088 - val_loss: 0.0286\n",
      "Epoch 35/50\n",
      "4096/4096 [==============================] - 10s 2ms/step - loss: 0.0078 - val_loss: 0.0078\n",
      "Epoch 36/50\n",
      "4096/4096 [==============================] - 10s 2ms/step - loss: 0.0073 - val_loss: 0.0043\n",
      "Epoch 37/50\n",
      "4096/4096 [==============================] - 10s 2ms/step - loss: 0.0068 - val_loss: 0.0044\n",
      "Epoch 38/50\n",
      "4096/4096 [==============================] - 10s 2ms/step - loss: 0.0066 - val_loss: 0.0045\n",
      "Epoch 39/50\n",
      "4096/4096 [==============================] - 10s 2ms/step - loss: 0.0062 - val_loss: 0.0064\n",
      "Epoch 40/50\n",
      "4096/4096 [==============================] - 10s 2ms/step - loss: 0.0067 - val_loss: 0.0074\n",
      "Epoch 41/50\n",
      "4096/4096 [==============================] - 10s 2ms/step - loss: 0.0059 - val_loss: 0.0039\n",
      "Epoch 42/50\n",
      "4096/4096 [==============================] - 10s 2ms/step - loss: 0.0055 - val_loss: 0.0047\n",
      "Epoch 43/50\n",
      "4096/4096 [==============================] - 10s 2ms/step - loss: 0.0057 - val_loss: 0.0042\n",
      "Epoch 44/50\n",
      "4096/4096 [==============================] - 10s 2ms/step - loss: 0.0051 - val_loss: 0.0057\n",
      "Epoch 45/50\n",
      "4096/4096 [==============================] - 10s 2ms/step - loss: 0.0056 - val_loss: 0.0041\n",
      "Epoch 46/50\n",
      "4096/4096 [==============================] - 10s 2ms/step - loss: 0.0047 - val_loss: 0.0036\n",
      "Epoch 47/50\n",
      "4096/4096 [==============================] - 10s 2ms/step - loss: 0.0054 - val_loss: 0.0024\n",
      "Epoch 48/50\n",
      "4096/4096 [==============================] - 10s 2ms/step - loss: 0.0050 - val_loss: 0.0060\n",
      "Epoch 49/50\n",
      "4096/4096 [==============================] - 10s 2ms/step - loss: 0.0052 - val_loss: 0.0043\n",
      "Epoch 50/50\n",
      "4096/4096 [==============================] - 10s 2ms/step - loss: 0.0047 - val_loss: 0.0034\n"
     ]
    }
   ],
   "source": [
    "from keras.models import Sequential\n",
    "from keras import layers\n",
    "from keras.optimizers import Adam\n",
    "\n",
    "train_gen110 = generate(110, ca_width=100, batch_size=1, memory=0)\n",
    "val_gen110 = generate(110, ca_width=100, batch_size=1, memory=0)\n",
    "\n",
    "\n",
    "model = Sequential() \n",
    "model.add(layers.Dense(200, activation='relu', input_shape=(None, 100)))\n",
    "model.add(layers.Dense(100, activation='sigmoid'))\n",
    "\n",
    "model.compile(optimizer=Adam(), loss='binary_crossentropy')\n",
    "history = model.fit_generator(train_gen110,\n",
    "                             steps_per_epoch=2**12,\n",
    "                             epochs=50,\n",
    "                             validation_data=val_gen110,\n",
    "                             validation_steps=100,\n",
    "                             verbose=1)"
   ]
  },
  {
   "cell_type": "code",
   "execution_count": 490,
   "metadata": {},
   "outputs": [
    {
     "name": "stdout",
     "output_type": "stream",
     "text": [
      "983/1000 correct predictions\n"
     ]
    }
   ],
   "source": [
    "test_predictions(model, val_gen110)"
   ]
  },
  {
   "cell_type": "code",
   "execution_count": 493,
   "metadata": {},
   "outputs": [
    {
     "data": {
      "image/png": "[encoded data removed]",
      "text/plain": [
       "<matplotlib.figure.Figure at 0x7fb5b09dd0d0>"
      ]
     },
     "metadata": {},
     "output_type": "display_data"
    }
   ],
   "source": [
    "x,y = next(val_gen110)\n",
    "st1 = model_evolve(model, x[0][0],duration=100)\n",
    "st2 = true_evolve(110, x[0][0],duration=100)\n",
    "\n",
    "from matplotlib.colors import ListedColormap\n",
    "fig, (ax1, ax2) = pp.subplots(1,2,figsize=(12, 6))\n",
    "cmap = ListedColormap(['gold','black'])\n",
    "fig.suptitle('Comparison of NN and Ruleset Evolution', fontsize=20)\n",
    "\n",
    "ax1.set_title(\"Model Output\")\n",
    "ax1.imshow(st1,interpolation='nearest',\n",
    "                    cmap = cmap)\n",
    "ax2.set_title(\"Rule Output\")\n",
    "ax2.imshow(st2,interpolation='nearest',\n",
    "                    cmap = cmap)\n",
    "pp.show()"
   ]
  },
  {
   "cell_type": "markdown",
   "metadata": {},
   "source": [
    "Even after training this large network for 10 minutes, it doesn't model the CA perfectly. While in this synthetic training environment we can always throw a larger network at a problem and train for longer, real-world problems do not have an infinite amount of data, so it's important to explore models that can be trained properly with less data. The natural choice is to look for a network that builds in some of the details we're trying to train. The convolutional neural network or convnet is this natural choice.\n",
    "\n",
    "# Convolutional Neural Network\n",
    "Although the the dense hidden layer is a simple and workable choice for throwing at a general problem, this is a problem in which the neighborhood or local patch of a cell directly determine the future state. Since convnets process input in terms of local patches, they're a natural choice for this problem"
   ]
  },
  {
   "cell_type": "code",
   "execution_count": 508,
   "metadata": {},
   "outputs": [
    {
     "name": "stdout",
     "output_type": "stream",
     "text": [
      "Epoch 1/10\n",
      "32768/32768 [==============================] - 90s 3ms/step - loss: 0.4568 - val_loss: 0.3705\n",
      "Epoch 2/10\n",
      "32768/32768 [==============================] - 88s 3ms/step - loss: 0.2110 - val_loss: 0.0928\n",
      "Epoch 3/10\n",
      "32768/32768 [==============================] - 89s 3ms/step - loss: 0.0441 - val_loss: 0.0154\n",
      "Epoch 4/10\n",
      "32768/32768 [==============================] - 90s 3ms/step - loss: 0.0119 - val_loss: 0.0070\n",
      "Epoch 5/10\n",
      "32768/32768 [==============================] - 89s 3ms/step - loss: 0.0065 - val_loss: 0.0023\n",
      "Epoch 6/10\n",
      "32768/32768 [==============================] - 90s 3ms/step - loss: 0.0049 - val_loss: 0.0051\n",
      "Epoch 7/10\n",
      "32768/32768 [==============================] - 91s 3ms/step - loss: 0.0039 - val_loss: 0.0023\n",
      "Epoch 8/10\n",
      "32768/32768 [==============================] - 90s 3ms/step - loss: 0.0035 - val_loss: 0.0023\n",
      "Epoch 9/10\n",
      "32768/32768 [==============================] - 90s 3ms/step - loss: 0.0031 - val_loss: 0.0015\n",
      "Epoch 10/10\n",
      "32768/32768 [==============================] - 92s 3ms/step - loss: 0.0031 - val_loss: 0.0111\n"
     ]
    }
   ],
   "source": [
    "def generate(rule, batch_size=10, ca_width=10, memory=0, min_dead=0):\n",
    "    np.random.randint(ca_width+1)\n",
    "    while True:\n",
    "        data = generate_spacetime(rule=rule, \n",
    "                               alive = np.random.randint(ca_width+1-min_dead), \n",
    "                               ca_width=ca_width,\n",
    "                               ca_duration = memory+1)\n",
    "        samples = np.zeros((batch_size, memory+1, ca_width))\n",
    "        targets = np.zeros((batch_size, ca_width))\n",
    "        for i in range(batch_size):\n",
    "            samples[i] = data[:-1]\n",
    "            targets[i] = data[-1][0]\n",
    "        yield samples, targets\n",
    "\n",
    "\n",
    "from keras.models import Sequential\n",
    "from keras import layers\n",
    "from keras.optimizers import Adam\n",
    "\n",
    "train_gen110 = generate(110, ca_width=100, batch_size=1, memory=0)\n",
    "val_gen110 = generate(110, ca_width=100, batch_size=1, memory=0)\n",
    "\n",
    "\n",
    "model = Sequential()\n",
    "model.add(layers.Conv1D(200,3, activation='relu', padding='same', input_shape=(None,100)))\n",
    "model.add(layers.GlobalMaxPooling1D())\n",
    "model.add(layers.Dense(100, activation='sigmoid'))\n",
    "\n",
    "model.compile(optimizer=Adam(), loss='binary_crossentropy')\n",
    "history = model.fit_generator(train_gen110,\n",
    "                             steps_per_epoch=2**15,\n",
    "                             epochs=10,\n",
    "                             validation_data=val_gen110,\n",
    "                             validation_steps=100,\n",
    "                             verbose=1)"
   ]
  },
  {
   "cell_type": "code",
   "execution_count": 510,
   "metadata": {},
   "outputs": [
    {
     "data": {
      "image/png": "[encoded data removed]",
      "text/plain": [
       "<matplotlib.figure.Figure at 0x7fb5b035f750>"
      ]
     },
     "metadata": {},
     "output_type": "display_data"
    }
   ],
   "source": [
    "def model_evolve(model, space, duration=10):\n",
    "    spacetime = []\n",
    "    spacetime.append( space )\n",
    "\n",
    "    for time_step in xrange(duration):\n",
    "        space = np.around(model.predict(np.array([[space]]))[0])\n",
    "        spacetime.append( np.asarray(space) )\n",
    "\n",
    "    return np.asmatrix(spacetime)\n",
    "\n",
    "def true_evolve(rule, space, duration=10):\n",
    "    spacetime = []\n",
    "    ca_width = space.shape[0]\n",
    "    spacetime.append( space )\n",
    "\n",
    "    s0 = list(range(ca_width))\n",
    "    sl1 = s0[1:] + s0[:1]\n",
    "    sr1 = s0[-1:] + s0[:-1]\n",
    "\n",
    "\n",
    "    for time_step in xrange(duration):\n",
    "        values = 4*spacetime[time_step][sr1] + 2*spacetime[time_step][s0] + 1*spacetime[time_step][sl1]\n",
    "        space = [] \n",
    "        for value in values:\n",
    "            if (rule >> np.int64(value)) & 0x1:\n",
    "                space.append(1)\n",
    "            else:\n",
    "                space.append(0)\n",
    "        spacetime.append( np.asarray(space) )\n",
    "\n",
    "    return np.asmatrix(spacetime)\n",
    "\n",
    "x,y = next(val_gen110)\n",
    "st1 = model_evolve(model, x[0][0], duration=100)\n",
    "st2 = true_evolve(110, x[0][0], duration=100)\n",
    "\n",
    "from matplotlib.colors import ListedColormap\n",
    "fig, (ax1, ax2) = pp.subplots(1,2,figsize=(12, 6))\n",
    "cmap = ListedColormap(['gold','black'])\n",
    "fig.suptitle('Comparison of CNN and Ruleset Evolution', fontsize=20)\n",
    "\n",
    "ax1.set_title(\"Model Output\")\n",
    "ax1.imshow(st1,interpolation='nearest',\n",
    "                    cmap = cmap)\n",
    "ax2.set_title(\"Rule Output\")\n",
    "ax2.imshow(st2,interpolation='nearest',\n",
    "                    cmap = cmap)\n",
    "pp.show()"
   ]
  },
  {
   "cell_type": "markdown",
   "metadata": {},
   "source": [
    "Strangely enough, the CNN fails to significantly improve the results of the basic dense NN.\n",
    "## Workbook under construction - check back later"
   ]
  },
  {
   "cell_type": "code",
   "execution_count": null,
   "metadata": {
    "collapsed": true
   },
   "outputs": [],
   "source": []
  }
 ],
 "metadata": {
  "kernelspec": {
   "display_name": "Python 2",
   "language": "python",
   "name": "python2"
  },
  "language_info": {
   "codemirror_mode": {
    "name": "ipython",
    "version": 2
   },
   "file_extension": ".py",
   "mimetype": "text/x-python",
   "name": "python",
   "nbconvert_exporter": "python",
   "pygments_lexer": "ipython2",
   "version": "2.7.13"
  }
 },
 "nbformat": 4,
 "nbformat_minor": 2
}
